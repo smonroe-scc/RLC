{
 "cells": [
  {
   "cell_type": "code",
   "execution_count": 1,
   "metadata": {},
   "outputs": [
    {
     "name": "stdout",
     "output_type": "stream",
     "text": [
      "Author        : sm626967\n",
      "Python        : 3.7.4 \n",
      "NumPy         : 1.18.1\n",
      "Encoding      : utf-8\n",
      "Timestamp     : 1594309632.144816\n"
     ]
    }
   ],
   "source": [
    "%run ./py_templates/1_Boilerplate_numeric.py"
   ]
  },
  {
   "cell_type": "code",
   "execution_count": 2,
   "metadata": {},
   "outputs": [],
   "source": [
    "# set up preliminary values for circuit:\n",
    "p=float(pi)\n",
    "Egen=5.0+0j\n",
    "Rint=100.0\n",
    "Rw=121.0\n",
    "L=80.0E-3\n",
    "C=0.01E-6\n",
    "RL=700.0"
   ]
  },
  {
   "cell_type": "code",
   "execution_count": 3,
   "metadata": {},
   "outputs": [],
   "source": [
    "# Calculate the frequency of resonance, and use that value to obtain ω ...\n",
    "\n",
    "fr=np.reciprocal(2*p*sqrt(L*C))\n",
    "ω=2*p*fr\n"
   ]
  },
  {
   "cell_type": "code",
   "execution_count": 4,
   "metadata": {},
   "outputs": [],
   "source": [
    "# Calculate both reactances and cast them to type complex for manipulaton. Use ω from prior cell:\n",
    "XL=ω*L*1j\n",
    "XC=np.reciprocal(ω*C)*-1j"
   ]
  },
  {
   "cell_type": "code",
   "execution_count": 5,
   "metadata": {},
   "outputs": [],
   "source": [
    "# Calculate ZT and RT.  Series circuit so just sum up the values:\n",
    "ZT=XL+XC+Rw+Rint+RL\n",
    "ZT_=R2P(ZT) # Retain the polar conversion for use later. \n",
    "RT=Rint+Rw+RL"
   ]
  },
  {
   "cell_type": "code",
   "execution_count": 6,
   "metadata": {},
   "outputs": [],
   "source": [
    "# Calculate IT.  Use Ohm's Law.\n",
    "IT=Egen/ZT\n",
    "IT_=R2P(IT) # Retain the polar conversion for use later. "
   ]
  },
  {
   "cell_type": "code",
   "execution_count": 7,
   "metadata": {},
   "outputs": [],
   "source": [
    "# Calculate voltage on the load.  Use Ohm's Law.\n",
    "VLoad=IT*RL\n",
    "Vload_=R2P(VLoad)  # Retain the polar conversion for use later. "
   ]
  },
  {
   "cell_type": "code",
   "execution_count": 8,
   "metadata": {},
   "outputs": [],
   "source": [
    "# Calculate Q(coil) and Q(circuit)  In order to do this only the magnitude of XL can be used.\n",
    "XL_=R2P(XL)\n",
    "XC_=R2P(XC)\n",
    "Q_coil=XL_[0]/Rw\n",
    "Q_circuit=XL_[0]/RT"
   ]
  },
  {
   "cell_type": "code",
   "execution_count": 9,
   "metadata": {},
   "outputs": [],
   "source": [
    "# Calculate resonant filter bandwidth: use example from text: [ex 13-12]\n",
    "BW_res=fr/Q_circuit"
   ]
  },
  {
   "cell_type": "code",
   "execution_count": 10,
   "metadata": {},
   "outputs": [
    {
     "name": "stdout",
     "output_type": "stream",
     "text": [
      "Results for resonant condition:\n",
      "-------------------------------\n",
      "\n",
      "f_r     : 5626.97698 Hz\n",
      "Q_coil  : 23.37543\n",
      "Q_ckt   : 3.07104\n",
      "R_tot   : 921.00000 Ω\n",
      "XL      : 2828.427125 Ω ∠ 90.000 °\n",
      "XC      : 2828.427125 Ω ∠ -90.000 °\n",
      "IT      : 5.428882e-03 Amperes ∠ 0.000 °\n",
      "VLoad   : 3.800217 Volts ∠ 0.000 °\n",
      "ZT      : 921.000000 Ω ∠ -0.000 °\n",
      "BW(res) : 1832.27128 Hz\n"
     ]
    }
   ],
   "source": [
    "print(\"Results for resonant condition:\")\n",
    "print(\"-------------------------------\")\n",
    "print()\n",
    "print(\"f_r     :\",'{0:.5f}'.format(fr),\"Hz\")\n",
    "print(\"Q_coil  :\",'{0:.5f}'.format(Q_coil))\n",
    "print(\"Q_ckt   :\",'{0:.5f}'.format(Q_circuit))\n",
    "print(\"R_tot   :\",'{0:.5f}'.format(RT),\"\\u03a9\")\n",
    "print(\"XL      :\",'{0:.6f}'.format(XL_[0]),\"\\u03a9 \\u2220\", '{0:.3f}'.format(XL_[1]),\"\\u00b0\")\n",
    "print(\"XC      :\",'{0:.6f}'.format(XC_[0]),\"\\u03a9 \\u2220\", '{0:.3f}'.format(XC_[1]),\"\\u00b0\")\n",
    "print(\"IT      :\",'{0:.6e}'.format(IT_[0]),\"Amperes \\u2220\", '{0:.3f}'.format(IT_[1]),\"\\u00b0\")\n",
    "print(\"VLoad   :\",'{0:.6f}'.format(Vload_[0]),\"Volts \\u2220\", '{0:.3f}'.format(Vload_[1]),\"\\u00b0\")\n",
    "print(\"ZT      :\",'{0:.6f}'.format(ZT_[0]),\"\\u03a9 \\u2220\", '{0:.3f}'.format(ZT_[1]),\"\\u00b0\")\n",
    "print(\"BW(res) :\",'{0:.5f}'.format(BW_res),\"Hz\")"
   ]
  },
  {
   "cell_type": "code",
   "execution_count": 11,
   "metadata": {},
   "outputs": [],
   "source": [
    "# To calculate fco1 and fco2 use the values already obtained from fr. \n",
    "fco1=fr-(BW_res/2)\n",
    "fco2=fr+(BW_res/2)"
   ]
  },
  {
   "cell_type": "code",
   "execution_count": 12,
   "metadata": {},
   "outputs": [
    {
     "name": "stdout",
     "output_type": "stream",
     "text": [
      "Results for pre-resonant condition:\n",
      "-----------------------------------\n",
      "\n",
      "fco1    : 4710.84133 Hz\n",
      "XL      : 2367.927125 Ω ∠ 90.000 °\n",
      "XC      : 3378.482351 Ω ∠ -90.000 °\n",
      "IT      : 3.656887e-03 Amperes ∠ 47.655 °\n",
      "VL      : 8.670541 Volts ∠ 134.729 °\n",
      "VC      : 12.354729 Volts ∠ -42.345 °\n"
     ]
    }
   ],
   "source": [
    "# Calculate pre-resonant parameters\n",
    "ω_1=2*p*fco1\n",
    "XL1=ω_1*L*1j\n",
    "XC1=np.reciprocal(ω_1*C)*-1j\n",
    "XL1_=R2P(XL1)\n",
    "XC1_=R2P(XC1)\n",
    "ZT1=XL1+XC1+Rw+Rint+RL\n",
    "ZT1_=R2P(ZT1) # Retain the polar conversion for use later. \n",
    "IT1=Egen/ZT1\n",
    "IT1_=R2P(IT1)\n",
    "VL1=IT1*(XL1+Rw)\n",
    "VC1=IT1*XC1\n",
    "VL1_=R2P(VL1)\n",
    "VC1_=R2P(VC1)\n",
    "\n",
    "print(\"Results for pre-resonant condition:\")\n",
    "print(\"-----------------------------------\")\n",
    "print()\n",
    "print(\"fco1    :\",'{0:.5f}'.format(fco1),\"Hz\")\n",
    "print(\"XL      :\",'{0:.6f}'.format(XL1_[0]),\"\\u03a9 \\u2220\", '{0:.3f}'.format(XL1_[1]),\"\\u00b0\")\n",
    "print(\"XC      :\",'{0:.6f}'.format(XC1_[0]),\"\\u03a9 \\u2220\", '{0:.3f}'.format(XC1_[1]),\"\\u00b0\")\n",
    "print(\"IT      :\",'{0:.6e}'.format(IT1_[0]),\"Amperes \\u2220\", '{0:.3f}'.format(IT1_[1]),\"\\u00b0\")\n",
    "print(\"VL      :\",'{0:.6f}'.format(VL1_[0]),\"Volts \\u2220\", '{0:.3f}'.format(VL1_[1]),\"\\u00b0\")\n",
    "print(\"VC      :\",'{0:.6f}'.format(VC1_[0]),\"Volts \\u2220\", '{0:.3f}'.format(VC1_[1]),\"\\u00b0\")"
   ]
  },
  {
   "cell_type": "code",
   "execution_count": 13,
   "metadata": {},
   "outputs": [
    {
     "name": "stdout",
     "output_type": "stream",
     "text": [
      "Results for post-resonant condition:\n",
      "-----------------------------------\n",
      "\n",
      "fco1    : 6543.11262 Hz\n",
      "XL      : 3288.927125 Ω ∠ 90.000 °\n",
      "XC      : 2432.404154 Ω ∠ -90.000 °\n",
      "IT      : 3.975431e-03 Amperes ∠ -42.923 °\n",
      "VL      : 13.083749 Volts ∠ 44.970 °\n",
      "VC      : 9.669856 Volts ∠ -132.923 °\n"
     ]
    }
   ],
   "source": [
    "# Calculate post-resonant parameters\n",
    "ω_2=2*p*fco2\n",
    "XL2=ω_2*L*1j\n",
    "XC2=np.reciprocal(ω_2*C)*-1j\n",
    "XL2_=R2P(XL2)\n",
    "XC2_=R2P(XC2)\n",
    "ZT2=XL2+XC2+Rw+Rint+RL\n",
    "ZT2_=R2P(ZT2) # Retain the polar conversion for use later. \n",
    "IT2=Egen/ZT2\n",
    "IT2_=R2P(IT2)\n",
    "VL2=IT2*(XL2+Rw)\n",
    "VC2=IT2*XC2\n",
    "VL2_=R2P(VL2)\n",
    "VC2_=R2P(VC2)\n",
    "\n",
    "print(\"Results for post-resonant condition:\")\n",
    "print(\"-----------------------------------\")\n",
    "print()\n",
    "print(\"fco2    :\",'{0:.5f}'.format(fco2),\"Hz\")\n",
    "print(\"XL      :\",'{0:.6f}'.format(XL2_[0]),\"\\u03a9 \\u2220\", '{0:.3f}'.format(XL2_[1]),\"\\u00b0\")\n",
    "print(\"XC      :\",'{0:.6f}'.format(XC2_[0]),\"\\u03a9 \\u2220\", '{0:.3f}'.format(XC2_[1]),\"\\u00b0\")\n",
    "print(\"IT      :\",'{0:.6e}'.format(IT2_[0]),\"Amperes \\u2220\", '{0:.3f}'.format(IT2_[1]),\"\\u00b0\")\n",
    "print(\"VL      :\",'{0:.6f}'.format(VL2_[0]),\"Volts \\u2220\", '{0:.3f}'.format(VL2_[1]),\"\\u00b0\")\n",
    "print(\"VC      :\",'{0:.6f}'.format(VC2_[0]),\"Volts \\u2220\", '{0:.3f}'.format(VC2_[1]),\"\\u00b0\")"
   ]
  },
  {
   "cell_type": "code",
   "execution_count": null,
   "metadata": {},
   "outputs": [],
   "source": []
  }
 ],
 "metadata": {
  "kernelspec": {
   "display_name": "Python 3",
   "language": "python",
   "name": "python3"
  },
  "language_info": {
   "codemirror_mode": {
    "name": "ipython",
    "version": 3
   },
   "file_extension": ".py",
   "mimetype": "text/x-python",
   "name": "python",
   "nbconvert_exporter": "python",
   "pygments_lexer": "ipython3",
   "version": "3.7.4"
  }
 },
 "nbformat": 4,
 "nbformat_minor": 4
}
